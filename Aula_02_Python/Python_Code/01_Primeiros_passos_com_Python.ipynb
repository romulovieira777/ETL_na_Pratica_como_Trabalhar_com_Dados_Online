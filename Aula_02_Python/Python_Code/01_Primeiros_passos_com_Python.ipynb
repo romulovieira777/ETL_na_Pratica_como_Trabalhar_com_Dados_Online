{
 "cells": [
  {
   "cell_type": "code",
   "id": "initial_id",
   "metadata": {
    "collapsed": true,
    "ExecuteTime": {
     "end_time": "2025-04-04T12:48:16.780633Z",
     "start_time": "2025-04-04T12:48:16.767139Z"
    }
   },
   "source": [
    "# A soma de dois números\n",
    "2 + 3"
   ],
   "outputs": [
    {
     "data": {
      "text/plain": [
       "5"
      ]
     },
     "execution_count": 1,
     "metadata": {},
     "output_type": "execute_result"
    }
   ],
   "execution_count": 1
  },
  {
   "metadata": {
    "ExecuteTime": {
     "end_time": "2025-04-04T12:49:23.888467Z",
     "start_time": "2025-04-04T12:49:23.883116Z"
    }
   },
   "cell_type": "code",
   "source": [
    "# A soma de dois números\n",
    "2 + 3"
   ],
   "id": "f842dcde2f7b9405",
   "outputs": [
    {
     "data": {
      "text/plain": [
       "5"
      ]
     },
     "execution_count": 2,
     "metadata": {},
     "output_type": "execute_result"
    }
   ],
   "execution_count": 2
  },
  {
   "metadata": {},
   "cell_type": "markdown",
   "source": [
    "# Python\n",
    "\n",
    "## Linguagem\n",
    "\n",
    "Python é uma linguagem de programaçã."
   ],
   "id": "b86104bce90c0917"
  },
  {
   "metadata": {
    "ExecuteTime": {
     "end_time": "2025-04-04T12:54:49.186241Z",
     "start_time": "2025-04-04T12:54:49.180523Z"
    }
   },
   "cell_type": "code",
   "source": [
    "# A multiplicação de dois números\n",
    "2 * 9"
   ],
   "id": "9e64b0a855ebbc4",
   "outputs": [
    {
     "data": {
      "text/plain": [
       "18"
      ]
     },
     "execution_count": 3,
     "metadata": {},
     "output_type": "execute_result"
    }
   ],
   "execution_count": 3
  },
  {
   "metadata": {
    "ExecuteTime": {
     "end_time": "2025-04-04T12:55:02.123421Z",
     "start_time": "2025-04-04T12:55:02.118955Z"
    }
   },
   "cell_type": "code",
   "source": [
    "# A multiplicação de dois números\n",
    "resultado = 2 * 9"
   ],
   "id": "d05d7c3afb00b98b",
   "outputs": [],
   "execution_count": 4
  },
  {
   "metadata": {
    "ExecuteTime": {
     "end_time": "2025-04-04T12:55:18.254078Z",
     "start_time": "2025-04-04T12:55:18.247719Z"
    }
   },
   "cell_type": "code",
   "source": [
    "# A soma de dois números\n",
    "2 + 7"
   ],
   "id": "6b9d3737ca2e7155",
   "outputs": [
    {
     "data": {
      "text/plain": [
       "9"
      ]
     },
     "execution_count": 5,
     "metadata": {},
     "output_type": "execute_result"
    }
   ],
   "execution_count": 5
  },
  {
   "metadata": {
    "ExecuteTime": {
     "end_time": "2025-04-04T12:55:25.844720Z",
     "start_time": "2025-04-04T12:55:25.838634Z"
    }
   },
   "cell_type": "code",
   "source": [
    "# Imprimindo o resultado\n",
    "resultado"
   ],
   "id": "72d29da2fcc40496",
   "outputs": [
    {
     "data": {
      "text/plain": [
       "18"
      ]
     },
     "execution_count": 6,
     "metadata": {},
     "output_type": "execute_result"
    }
   ],
   "execution_count": 6
  },
  {
   "metadata": {
    "ExecuteTime": {
     "end_time": "2025-04-04T12:55:32.385405Z",
     "start_time": "2025-04-04T12:55:32.379288Z"
    }
   },
   "cell_type": "code",
   "source": [
    "# A soma de dois números\n",
    "print(2 + 7)"
   ],
   "id": "bf162632883e2bbc",
   "outputs": [
    {
     "name": "stdout",
     "output_type": "stream",
     "text": [
      "9\n"
     ]
    }
   ],
   "execution_count": 7
  },
  {
   "metadata": {
    "ExecuteTime": {
     "end_time": "2025-04-04T12:55:39.825045Z",
     "start_time": "2025-04-04T12:55:39.819956Z"
    }
   },
   "cell_type": "code",
   "source": [
    "# Imprimindo o resultado\n",
    "print(resultado)"
   ],
   "id": "e112eaff6fc4058a",
   "outputs": [
    {
     "name": "stdout",
     "output_type": "stream",
     "text": [
      "18\n"
     ]
    }
   ],
   "execution_count": 8
  },
  {
   "metadata": {
    "ExecuteTime": {
     "end_time": "2025-04-04T12:56:24.602201Z",
     "start_time": "2025-04-04T12:56:24.597324Z"
    }
   },
   "cell_type": "code",
   "source": [
    "# Criando uma lista de inteiros\n",
    "inteiros = [1, 2, 3, 4]"
   ],
   "id": "cb458a182d8c1fb5",
   "outputs": [],
   "execution_count": 9
  },
  {
   "metadata": {
    "ExecuteTime": {
     "end_time": "2025-04-04T12:56:50.024598Z",
     "start_time": "2025-04-04T12:56:50.019036Z"
    }
   },
   "cell_type": "code",
   "source": [
    "# Acessando o primeiro elemento da lista\n",
    "inteiros[0]"
   ],
   "id": "948f2eba39da28b1",
   "outputs": [
    {
     "data": {
      "text/plain": [
       "1"
      ]
     },
     "execution_count": 10,
     "metadata": {},
     "output_type": "execute_result"
    }
   ],
   "execution_count": 10
  },
  {
   "metadata": {
    "ExecuteTime": {
     "end_time": "2025-04-04T12:56:57.320621Z",
     "start_time": "2025-04-04T12:56:57.314554Z"
    }
   },
   "cell_type": "code",
   "source": [
    "# Acessando o segundo elemento da lista\n",
    "inteiros[1]"
   ],
   "id": "c7c6dbf02a25c25f",
   "outputs": [
    {
     "data": {
      "text/plain": [
       "2"
      ]
     },
     "execution_count": 12,
     "metadata": {},
     "output_type": "execute_result"
    }
   ],
   "execution_count": 12
  },
  {
   "metadata": {
    "ExecuteTime": {
     "end_time": "2025-04-04T12:57:18.679013Z",
     "start_time": "2025-04-04T12:57:18.674106Z"
    }
   },
   "cell_type": "code",
   "source": [
    "# Acessando o segundo elemento da lista até o quarto\n",
    "inteiros[1:4]"
   ],
   "id": "fbd94f5bc823369",
   "outputs": [
    {
     "data": {
      "text/plain": [
       "[2, 3, 4]"
      ]
     },
     "execution_count": 13,
     "metadata": {},
     "output_type": "execute_result"
    }
   ],
   "execution_count": 13
  },
  {
   "metadata": {
    "ExecuteTime": {
     "end_time": "2025-04-04T12:58:01.503048Z",
     "start_time": "2025-04-04T12:58:01.497108Z"
    }
   },
   "cell_type": "code",
   "source": [
    "# Acessando o último elemento da lista\n",
    "inteiros[-1]"
   ],
   "id": "f14bbeb6d84ef000",
   "outputs": [
    {
     "data": {
      "text/plain": [
       "4"
      ]
     },
     "execution_count": 14,
     "metadata": {},
     "output_type": "execute_result"
    }
   ],
   "execution_count": 14
  },
  {
   "metadata": {
    "ExecuteTime": {
     "end_time": "2025-04-04T12:58:17.709564Z",
     "start_time": "2025-04-04T12:58:17.703229Z"
    }
   },
   "cell_type": "code",
   "source": [
    "# Acessando o penúltimo elemento da lista\n",
    "inteiros[-2]"
   ],
   "id": "37461125e7eeac66",
   "outputs": [
    {
     "data": {
      "text/plain": [
       "3"
      ]
     },
     "execution_count": 15,
     "metadata": {},
     "output_type": "execute_result"
    }
   ],
   "execution_count": 15
  },
  {
   "metadata": {
    "ExecuteTime": {
     "end_time": "2025-04-04T12:58:56.874568Z",
     "start_time": "2025-04-04T12:58:56.869035Z"
    }
   },
   "cell_type": "code",
   "source": [
    "# Criando uma lista\n",
    "misturado = [0, \"casa\", 4.9]"
   ],
   "id": "26b1e7c7779c1adb",
   "outputs": [],
   "execution_count": 16
  },
  {
   "metadata": {
    "ExecuteTime": {
     "end_time": "2025-04-04T12:59:04.924217Z",
     "start_time": "2025-04-04T12:59:04.918694Z"
    }
   },
   "cell_type": "code",
   "source": [
    "# imprimindo a lista\n",
    "print(misturado)"
   ],
   "id": "8db80c71bd23636e",
   "outputs": [
    {
     "name": "stdout",
     "output_type": "stream",
     "text": [
      "[0, 'casa', 4.9]\n"
     ]
    }
   ],
   "execution_count": 17
  },
  {
   "metadata": {
    "ExecuteTime": {
     "end_time": "2025-04-04T12:59:42.093993Z",
     "start_time": "2025-04-04T12:59:42.090375Z"
    }
   },
   "cell_type": "code",
   "source": [
    "# Atualizando o primeiro elemento da lista\n",
    "misturado[0] = \"lapis\""
   ],
   "id": "7afc7c80e426e150",
   "outputs": [],
   "execution_count": 18
  },
  {
   "metadata": {
    "ExecuteTime": {
     "end_time": "2025-04-04T12:59:44.850184Z",
     "start_time": "2025-04-04T12:59:44.846711Z"
    }
   },
   "cell_type": "code",
   "source": "# Imprimindo a lista\n",
   "id": "ee3a9762cfb1dff9",
   "outputs": [],
   "execution_count": 19
  },
  {
   "metadata": {
    "ExecuteTime": {
     "end_time": "2025-04-04T13:00:15.508593Z",
     "start_time": "2025-04-04T13:00:15.503482Z"
    }
   },
   "cell_type": "code",
   "source": [
    "# Imprimindo o mínimo da lista\n",
    "min(inteiros)"
   ],
   "id": "2627e4024ab18193",
   "outputs": [
    {
     "data": {
      "text/plain": [
       "1"
      ]
     },
     "execution_count": 20,
     "metadata": {},
     "output_type": "execute_result"
    }
   ],
   "execution_count": 20
  },
  {
   "metadata": {
    "ExecuteTime": {
     "end_time": "2025-04-04T13:00:45.571481Z",
     "start_time": "2025-04-04T13:00:45.565483Z"
    }
   },
   "cell_type": "code",
   "source": [
    "# Imprimindo o máximo da lista\n",
    "max(inteiros)"
   ],
   "id": "876269b75da25870",
   "outputs": [
    {
     "data": {
      "text/plain": [
       "4"
      ]
     },
     "execution_count": 21,
     "metadata": {},
     "output_type": "execute_result"
    }
   ],
   "execution_count": 21
  },
  {
   "metadata": {
    "ExecuteTime": {
     "end_time": "2025-04-04T13:01:23.224046Z",
     "start_time": "2025-04-04T13:01:22.937293Z"
    }
   },
   "cell_type": "code",
   "source": [
    "# Importando a biblioteca numpy\n",
    "import numpy as np"
   ],
   "id": "a2bad322649105c7",
   "outputs": [],
   "execution_count": 22
  },
  {
   "metadata": {
    "ExecuteTime": {
     "end_time": "2025-04-04T13:01:53.082954Z",
     "start_time": "2025-04-04T13:01:53.075421Z"
    }
   },
   "cell_type": "code",
   "source": [
    "# Gerando a raiz quadrada dos inteiros\n",
    "np.sqrt(inteiros)"
   ],
   "id": "ec5fe6103545979f",
   "outputs": [
    {
     "data": {
      "text/plain": [
       "array([1.        , 1.41421356, 1.73205081, 2.        ])"
      ]
     },
     "execution_count": 23,
     "metadata": {},
     "output_type": "execute_result"
    }
   ],
   "execution_count": 23
  },
  {
   "metadata": {
    "ExecuteTime": {
     "end_time": "2025-04-04T13:02:15.414230Z",
     "start_time": "2025-04-04T13:02:15.408620Z"
    }
   },
   "cell_type": "code",
   "source": [
    "# Adiocionando um elemento à lista\n",
    "inteiros.append([5])"
   ],
   "id": "5d6a0abdb6557775",
   "outputs": [],
   "execution_count": 24
  },
  {
   "metadata": {
    "ExecuteTime": {
     "end_time": "2025-04-04T13:02:25.036998Z",
     "start_time": "2025-04-04T13:02:25.033745Z"
    }
   },
   "cell_type": "code",
   "source": [
    "# Imprimindo a lista\n",
    "print(inteiros)"
   ],
   "id": "5a02d328aed6060a",
   "outputs": [
    {
     "name": "stdout",
     "output_type": "stream",
     "text": [
      "[1, 2, 3, 4, [5]]\n"
     ]
    }
   ],
   "execution_count": 26
  },
  {
   "metadata": {
    "ExecuteTime": {
     "end_time": "2025-04-04T13:02:46.941922Z",
     "start_time": "2025-04-04T13:02:46.935966Z"
    }
   },
   "cell_type": "code",
   "source": [
    "# Adiocionando um elemento à lista\n",
    "inteiros.extend([6])"
   ],
   "id": "2fe187123ed79b5a",
   "outputs": [],
   "execution_count": 27
  },
  {
   "metadata": {
    "ExecuteTime": {
     "end_time": "2025-04-04T13:02:51.249004Z",
     "start_time": "2025-04-04T13:02:51.244370Z"
    }
   },
   "cell_type": "code",
   "source": [
    "# Imprimindo a lista\n",
    "print(inteiros)"
   ],
   "id": "c889885e6b83784d",
   "outputs": [
    {
     "name": "stdout",
     "output_type": "stream",
     "text": [
      "[1, 2, 3, 4, [5], 6]\n"
     ]
    }
   ],
   "execution_count": 28
  },
  {
   "metadata": {
    "ExecuteTime": {
     "end_time": "2025-04-04T13:04:43.183917Z",
     "start_time": "2025-04-04T13:04:43.178922Z"
    }
   },
   "cell_type": "code",
   "source": [
    "# Criando um loop for\n",
    "for i in inteiros:\n",
    "    print(i)"
   ],
   "id": "f4acd61a9b584966",
   "outputs": [
    {
     "name": "stdout",
     "output_type": "stream",
     "text": [
      "1\n",
      "2\n",
      "3\n",
      "4\n",
      "[5]\n",
      "6\n"
     ]
    }
   ],
   "execution_count": 29
  },
  {
   "metadata": {
    "ExecuteTime": {
     "end_time": "2025-04-04T13:05:59.407256Z",
     "start_time": "2025-04-04T13:05:59.402800Z"
    }
   },
   "cell_type": "code",
   "source": [
    "# Criando uma condição\n",
    "if 2 > 1:\n",
    "    print(\"2 é maior que 1\")"
   ],
   "id": "c7bf1f73f859cbb2",
   "outputs": [
    {
     "name": "stdout",
     "output_type": "stream",
     "text": [
      "2 é maior que 1\n"
     ]
    }
   ],
   "execution_count": 30
  },
  {
   "metadata": {
    "ExecuteTime": {
     "end_time": "2025-04-04T13:06:07.653904Z",
     "start_time": "2025-04-04T13:06:07.649137Z"
    }
   },
   "cell_type": "code",
   "source": [
    "# Criando duas variáveis\n",
    "a = 5\n",
    "b = 3"
   ],
   "id": "a55d4b39de76ab98",
   "outputs": [],
   "execution_count": 31
  },
  {
   "metadata": {
    "ExecuteTime": {
     "end_time": "2025-04-04T13:06:39.490037Z",
     "start_time": "2025-04-04T13:06:39.483128Z"
    }
   },
   "cell_type": "code",
   "source": [
    "# Criando uma condição\n",
    "if a > b:\n",
    "    print(\"a é maior que b\")\n",
    "elif a < b:\n",
    "    print(\"a é menor que b\")\n",
    "else:\n",
    "    print(\"a é igual a b\")"
   ],
   "id": "3aac6e0e3df71669",
   "outputs": [
    {
     "name": "stdout",
     "output_type": "stream",
     "text": [
      "a é maior que b\n"
     ]
    }
   ],
   "execution_count": 32
  }
 ],
 "metadata": {
  "kernelspec": {
   "display_name": "Python 3",
   "language": "python",
   "name": "python3"
  },
  "language_info": {
   "codemirror_mode": {
    "name": "ipython",
    "version": 2
   },
   "file_extension": ".py",
   "mimetype": "text/x-python",
   "name": "python",
   "nbconvert_exporter": "python",
   "pygments_lexer": "ipython2",
   "version": "2.7.6"
  }
 },
 "nbformat": 4,
 "nbformat_minor": 5
}
