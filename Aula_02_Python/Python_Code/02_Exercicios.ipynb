{
 "cells": [
  {
   "cell_type": "code",
   "id": "initial_id",
   "metadata": {
    "collapsed": true,
    "ExecuteTime": {
     "end_time": "2025-04-04T13:08:01.072964Z",
     "start_time": "2025-04-04T13:08:01.066156Z"
    }
   },
   "source": "numeros = [67, 89,75, 192, 467, 78]",
   "outputs": [],
   "execution_count": 1
  },
  {
   "metadata": {
    "ExecuteTime": {
     "end_time": "2025-04-04T13:08:05.171385Z",
     "start_time": "2025-04-04T13:08:05.165904Z"
    }
   },
   "cell_type": "code",
   "source": "print(numeros[-2:])",
   "id": "591cf940ecb0391b",
   "outputs": [
    {
     "name": "stdout",
     "output_type": "stream",
     "text": [
      "[467, 78]\n"
     ]
    }
   ],
   "execution_count": 2
  },
  {
   "metadata": {
    "ExecuteTime": {
     "end_time": "2025-04-04T13:08:55.687769Z",
     "start_time": "2025-04-04T13:08:55.461802Z"
    }
   },
   "cell_type": "code",
   "source": [
    "import numpy as np\n",
    "\n",
    "def calculo(y1, y2):\n",
    "    return np.abs(y1-y2)"
   ],
   "id": "d14e32889e87a902",
   "outputs": [],
   "execution_count": 3
  },
  {
   "metadata": {
    "ExecuteTime": {
     "end_time": "2025-04-04T13:09:11.935624Z",
     "start_time": "2025-04-04T13:09:11.928106Z"
    }
   },
   "cell_type": "code",
   "source": "calculo(numeros[0], numeros[1])",
   "id": "a1a23b2dbedfd753",
   "outputs": [
    {
     "data": {
      "text/plain": [
       "22"
      ]
     },
     "execution_count": 4,
     "metadata": {},
     "output_type": "execute_result"
    }
   ],
   "execution_count": 4
  }
 ],
 "metadata": {
  "kernelspec": {
   "display_name": "Python 3",
   "language": "python",
   "name": "python3"
  },
  "language_info": {
   "codemirror_mode": {
    "name": "ipython",
    "version": 2
   },
   "file_extension": ".py",
   "mimetype": "text/x-python",
   "name": "python",
   "nbconvert_exporter": "python",
   "pygments_lexer": "ipython2",
   "version": "2.7.6"
  }
 },
 "nbformat": 4,
 "nbformat_minor": 5
}
