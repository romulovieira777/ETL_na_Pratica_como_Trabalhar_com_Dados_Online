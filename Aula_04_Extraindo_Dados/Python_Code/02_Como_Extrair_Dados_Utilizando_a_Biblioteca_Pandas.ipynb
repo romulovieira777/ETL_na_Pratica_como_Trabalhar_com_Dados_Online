{
 "cells": [
  {
   "cell_type": "code",
   "id": "initial_id",
   "metadata": {
    "collapsed": true,
    "ExecuteTime": {
     "end_time": "2025-04-08T12:43:36.336328Z",
     "start_time": "2025-04-08T12:43:34.494986Z"
    }
   },
   "source": "import pandas as pd",
   "outputs": [],
   "execution_count": 1
  },
  {
   "metadata": {
    "ExecuteTime": {
     "end_time": "2025-04-08T12:44:34.294907Z",
     "start_time": "2025-04-08T12:44:34.284448Z"
    }
   },
   "cell_type": "code",
   "source": "pd.Series([10, 8, 7, 9])",
   "id": "7ceb915732c3104f",
   "outputs": [
    {
     "data": {
      "text/plain": [
       "0    10\n",
       "1     8\n",
       "2     7\n",
       "3     9\n",
       "dtype: int64"
      ]
     },
     "execution_count": 2,
     "metadata": {},
     "output_type": "execute_result"
    }
   ],
   "execution_count": 2
  },
  {
   "metadata": {
    "ExecuteTime": {
     "end_time": "2025-04-08T12:44:57.793304Z",
     "start_time": "2025-04-08T12:44:57.787946Z"
    }
   },
   "cell_type": "code",
   "source": "notas = pd.Series([10, 8, 7, 9])",
   "id": "3fe9953a34955ed3",
   "outputs": [],
   "execution_count": 3
  },
  {
   "metadata": {
    "ExecuteTime": {
     "end_time": "2025-04-08T12:45:07.421241Z",
     "start_time": "2025-04-08T12:45:07.414106Z"
    }
   },
   "cell_type": "code",
   "source": "notas.mean()",
   "id": "9c56813319025121",
   "outputs": [
    {
     "data": {
      "text/plain": [
       "8.5"
      ]
     },
     "execution_count": 4,
     "metadata": {},
     "output_type": "execute_result"
    }
   ],
   "execution_count": 4
  },
  {
   "metadata": {
    "ExecuteTime": {
     "end_time": "2025-04-08T12:45:14.153001Z",
     "start_time": "2025-04-08T12:45:14.146404Z"
    }
   },
   "cell_type": "code",
   "source": "notas.sum()",
   "id": "39f50b2a1fbfa5a2",
   "outputs": [
    {
     "data": {
      "text/plain": [
       "34"
      ]
     },
     "execution_count": 5,
     "metadata": {},
     "output_type": "execute_result"
    }
   ],
   "execution_count": 5
  },
  {
   "metadata": {
    "ExecuteTime": {
     "end_time": "2025-04-08T12:45:22.609927Z",
     "start_time": "2025-04-08T12:45:22.601998Z"
    }
   },
   "cell_type": "code",
   "source": "notas.std()",
   "id": "f93b4b18b0ed5ea1",
   "outputs": [
    {
     "data": {
      "text/plain": [
       "1.2909944487358056"
      ]
     },
     "execution_count": 6,
     "metadata": {},
     "output_type": "execute_result"
    }
   ],
   "execution_count": 6
  },
  {
   "metadata": {
    "ExecuteTime": {
     "end_time": "2025-04-08T12:48:22.354449Z",
     "start_time": "2025-04-08T12:48:22.348924Z"
    }
   },
   "cell_type": "code",
   "source": [
    "df = pd.DataFrame({\n",
    "    'aluno': ['Felicty', 'Arrow', 'Berry', 'Capitão America', 'Thor'],\n",
    "    'faltas': [1, 8, 4, 0, 2],\n",
    "    'prova': [10, 9.8, 4.5, 8.5, 7.8]\n",
    "})"
   ],
   "id": "a1499310509aaca3",
   "outputs": [],
   "execution_count": 7
  },
  {
   "metadata": {
    "ExecuteTime": {
     "end_time": "2025-04-08T12:48:25.279263Z",
     "start_time": "2025-04-08T12:48:25.269025Z"
    }
   },
   "cell_type": "code",
   "source": "df",
   "id": "8ade7d9bd00e7146",
   "outputs": [
    {
     "data": {
      "text/plain": [
       "             aluno  faltas  prova\n",
       "0          Felicty       1   10.0\n",
       "1            Arrow       8    9.8\n",
       "2            Berry       4    4.5\n",
       "3  Capitão America       0    8.5\n",
       "4             Thor       2    7.8"
      ],
      "text/html": [
       "<div>\n",
       "<style scoped>\n",
       "    .dataframe tbody tr th:only-of-type {\n",
       "        vertical-align: middle;\n",
       "    }\n",
       "\n",
       "    .dataframe tbody tr th {\n",
       "        vertical-align: top;\n",
       "    }\n",
       "\n",
       "    .dataframe thead th {\n",
       "        text-align: right;\n",
       "    }\n",
       "</style>\n",
       "<table border=\"1\" class=\"dataframe\">\n",
       "  <thead>\n",
       "    <tr style=\"text-align: right;\">\n",
       "      <th></th>\n",
       "      <th>aluno</th>\n",
       "      <th>faltas</th>\n",
       "      <th>prova</th>\n",
       "    </tr>\n",
       "  </thead>\n",
       "  <tbody>\n",
       "    <tr>\n",
       "      <th>0</th>\n",
       "      <td>Felicty</td>\n",
       "      <td>1</td>\n",
       "      <td>10.0</td>\n",
       "    </tr>\n",
       "    <tr>\n",
       "      <th>1</th>\n",
       "      <td>Arrow</td>\n",
       "      <td>8</td>\n",
       "      <td>9.8</td>\n",
       "    </tr>\n",
       "    <tr>\n",
       "      <th>2</th>\n",
       "      <td>Berry</td>\n",
       "      <td>4</td>\n",
       "      <td>4.5</td>\n",
       "    </tr>\n",
       "    <tr>\n",
       "      <th>3</th>\n",
       "      <td>Capitão America</td>\n",
       "      <td>0</td>\n",
       "      <td>8.5</td>\n",
       "    </tr>\n",
       "    <tr>\n",
       "      <th>4</th>\n",
       "      <td>Thor</td>\n",
       "      <td>2</td>\n",
       "      <td>7.8</td>\n",
       "    </tr>\n",
       "  </tbody>\n",
       "</table>\n",
       "</div>"
      ]
     },
     "execution_count": 8,
     "metadata": {},
     "output_type": "execute_result"
    }
   ],
   "execution_count": 8
  },
  {
   "metadata": {
    "ExecuteTime": {
     "end_time": "2025-04-08T12:48:59.333541Z",
     "start_time": "2025-04-08T12:48:59.325675Z"
    }
   },
   "cell_type": "code",
   "source": "df.iloc[0]",
   "id": "e669bea997c4cd44",
   "outputs": [
    {
     "data": {
      "text/plain": [
       "aluno     Felicty\n",
       "faltas          1\n",
       "prova        10.0\n",
       "Name: 0, dtype: object"
      ]
     },
     "execution_count": 9,
     "metadata": {},
     "output_type": "execute_result"
    }
   ],
   "execution_count": 9
  },
  {
   "metadata": {
    "ExecuteTime": {
     "end_time": "2025-04-08T12:49:34.587222Z",
     "start_time": "2025-04-08T12:49:34.581234Z"
    }
   },
   "cell_type": "code",
   "source": "df.columns",
   "id": "2c3887b22ea83207",
   "outputs": [
    {
     "data": {
      "text/plain": [
       "Index(['aluno', 'faltas', 'prova'], dtype='object')"
      ]
     },
     "execution_count": 10,
     "metadata": {},
     "output_type": "execute_result"
    }
   ],
   "execution_count": 10
  },
  {
   "metadata": {
    "ExecuteTime": {
     "end_time": "2025-04-08T12:49:50.241110Z",
     "start_time": "2025-04-08T12:49:50.234129Z"
    }
   },
   "cell_type": "code",
   "source": "df.dtypes",
   "id": "72c1908808a32db8",
   "outputs": [
    {
     "data": {
      "text/plain": [
       "aluno      object\n",
       "faltas      int64\n",
       "prova     float64\n",
       "dtype: object"
      ]
     },
     "execution_count": 12,
     "metadata": {},
     "output_type": "execute_result"
    }
   ],
   "execution_count": 12
  },
  {
   "metadata": {
    "ExecuteTime": {
     "end_time": "2025-04-08T12:50:36.189137Z",
     "start_time": "2025-04-08T12:50:36.178870Z"
    }
   },
   "cell_type": "code",
   "source": "df[df[\"prova\"] > 8]",
   "id": "b33619984accd1fd",
   "outputs": [
    {
     "data": {
      "text/plain": [
       "             aluno  faltas  prova\n",
       "0          Felicty       1   10.0\n",
       "1            Arrow       8    9.8\n",
       "3  Capitão America       0    8.5"
      ],
      "text/html": [
       "<div>\n",
       "<style scoped>\n",
       "    .dataframe tbody tr th:only-of-type {\n",
       "        vertical-align: middle;\n",
       "    }\n",
       "\n",
       "    .dataframe tbody tr th {\n",
       "        vertical-align: top;\n",
       "    }\n",
       "\n",
       "    .dataframe thead th {\n",
       "        text-align: right;\n",
       "    }\n",
       "</style>\n",
       "<table border=\"1\" class=\"dataframe\">\n",
       "  <thead>\n",
       "    <tr style=\"text-align: right;\">\n",
       "      <th></th>\n",
       "      <th>aluno</th>\n",
       "      <th>faltas</th>\n",
       "      <th>prova</th>\n",
       "    </tr>\n",
       "  </thead>\n",
       "  <tbody>\n",
       "    <tr>\n",
       "      <th>0</th>\n",
       "      <td>Felicty</td>\n",
       "      <td>1</td>\n",
       "      <td>10.0</td>\n",
       "    </tr>\n",
       "    <tr>\n",
       "      <th>1</th>\n",
       "      <td>Arrow</td>\n",
       "      <td>8</td>\n",
       "      <td>9.8</td>\n",
       "    </tr>\n",
       "    <tr>\n",
       "      <th>3</th>\n",
       "      <td>Capitão America</td>\n",
       "      <td>0</td>\n",
       "      <td>8.5</td>\n",
       "    </tr>\n",
       "  </tbody>\n",
       "</table>\n",
       "</div>"
      ]
     },
     "execution_count": 14,
     "metadata": {},
     "output_type": "execute_result"
    }
   ],
   "execution_count": 14
  },
  {
   "metadata": {
    "ExecuteTime": {
     "end_time": "2025-04-08T12:52:07.904313Z",
     "start_time": "2025-04-08T12:52:07.894527Z"
    }
   },
   "cell_type": "code",
   "source": "apple = pd.read_csv('D:\\\\WorkSpace\\\\Github\\\\ETL_na_Pratica_como_Trabalhar_com_Dados_Online\\\\Aula_04_Extraindo_Dados\\\\Arquivos\\\\AAPL.csv', sep=',')",
   "id": "4c4c2ceec3fb5dbe",
   "outputs": [],
   "execution_count": 15
  },
  {
   "metadata": {
    "ExecuteTime": {
     "end_time": "2025-04-08T12:52:20.379934Z",
     "start_time": "2025-04-08T12:52:20.360874Z"
    }
   },
   "cell_type": "code",
   "source": "apple",
   "id": "7a701bd4f517cfa0",
   "outputs": [
    {
     "data": {
      "text/plain": [
       "           Date        Open        High         Low       Close   Adj Close  \\\n",
       "0    2018-07-18  191.779999  191.800003  189.929993  190.399994  187.545181   \n",
       "1    2018-07-19  189.690002  192.550003  189.690002  191.880005  189.003006   \n",
       "2    2018-07-20  191.779999  192.429993  190.169998  191.440002  188.569595   \n",
       "3    2018-07-23  190.679993  191.960007  189.559998  191.610001  188.737030   \n",
       "4    2018-07-24  192.449997  193.660004  192.050003  193.000000  190.106216   \n",
       "..          ...         ...         ...         ...         ...         ...   \n",
       "247  2019-07-12  202.449997  204.000000  202.199997  203.300003  203.300003   \n",
       "248  2019-07-15  204.089996  205.869995  204.000000  205.210007  205.210007   \n",
       "249  2019-07-16  204.589996  206.110001  203.500000  204.500000  204.500000   \n",
       "250  2019-07-17  204.050003  205.089996  203.270004  203.350006  203.350006   \n",
       "251  2019-07-18  204.000000  205.880005  203.699997  205.660004  205.660004   \n",
       "\n",
       "       Volume  \n",
       "0    16393400  \n",
       "1    20286800  \n",
       "2    20676200  \n",
       "3    15989400  \n",
       "4    18697900  \n",
       "..        ...  \n",
       "247  17595200  \n",
       "248  16947400  \n",
       "249  16866800  \n",
       "250  14088300  \n",
       "251  15724494  \n",
       "\n",
       "[252 rows x 7 columns]"
      ],
      "text/html": [
       "<div>\n",
       "<style scoped>\n",
       "    .dataframe tbody tr th:only-of-type {\n",
       "        vertical-align: middle;\n",
       "    }\n",
       "\n",
       "    .dataframe tbody tr th {\n",
       "        vertical-align: top;\n",
       "    }\n",
       "\n",
       "    .dataframe thead th {\n",
       "        text-align: right;\n",
       "    }\n",
       "</style>\n",
       "<table border=\"1\" class=\"dataframe\">\n",
       "  <thead>\n",
       "    <tr style=\"text-align: right;\">\n",
       "      <th></th>\n",
       "      <th>Date</th>\n",
       "      <th>Open</th>\n",
       "      <th>High</th>\n",
       "      <th>Low</th>\n",
       "      <th>Close</th>\n",
       "      <th>Adj Close</th>\n",
       "      <th>Volume</th>\n",
       "    </tr>\n",
       "  </thead>\n",
       "  <tbody>\n",
       "    <tr>\n",
       "      <th>0</th>\n",
       "      <td>2018-07-18</td>\n",
       "      <td>191.779999</td>\n",
       "      <td>191.800003</td>\n",
       "      <td>189.929993</td>\n",
       "      <td>190.399994</td>\n",
       "      <td>187.545181</td>\n",
       "      <td>16393400</td>\n",
       "    </tr>\n",
       "    <tr>\n",
       "      <th>1</th>\n",
       "      <td>2018-07-19</td>\n",
       "      <td>189.690002</td>\n",
       "      <td>192.550003</td>\n",
       "      <td>189.690002</td>\n",
       "      <td>191.880005</td>\n",
       "      <td>189.003006</td>\n",
       "      <td>20286800</td>\n",
       "    </tr>\n",
       "    <tr>\n",
       "      <th>2</th>\n",
       "      <td>2018-07-20</td>\n",
       "      <td>191.779999</td>\n",
       "      <td>192.429993</td>\n",
       "      <td>190.169998</td>\n",
       "      <td>191.440002</td>\n",
       "      <td>188.569595</td>\n",
       "      <td>20676200</td>\n",
       "    </tr>\n",
       "    <tr>\n",
       "      <th>3</th>\n",
       "      <td>2018-07-23</td>\n",
       "      <td>190.679993</td>\n",
       "      <td>191.960007</td>\n",
       "      <td>189.559998</td>\n",
       "      <td>191.610001</td>\n",
       "      <td>188.737030</td>\n",
       "      <td>15989400</td>\n",
       "    </tr>\n",
       "    <tr>\n",
       "      <th>4</th>\n",
       "      <td>2018-07-24</td>\n",
       "      <td>192.449997</td>\n",
       "      <td>193.660004</td>\n",
       "      <td>192.050003</td>\n",
       "      <td>193.000000</td>\n",
       "      <td>190.106216</td>\n",
       "      <td>18697900</td>\n",
       "    </tr>\n",
       "    <tr>\n",
       "      <th>...</th>\n",
       "      <td>...</td>\n",
       "      <td>...</td>\n",
       "      <td>...</td>\n",
       "      <td>...</td>\n",
       "      <td>...</td>\n",
       "      <td>...</td>\n",
       "      <td>...</td>\n",
       "    </tr>\n",
       "    <tr>\n",
       "      <th>247</th>\n",
       "      <td>2019-07-12</td>\n",
       "      <td>202.449997</td>\n",
       "      <td>204.000000</td>\n",
       "      <td>202.199997</td>\n",
       "      <td>203.300003</td>\n",
       "      <td>203.300003</td>\n",
       "      <td>17595200</td>\n",
       "    </tr>\n",
       "    <tr>\n",
       "      <th>248</th>\n",
       "      <td>2019-07-15</td>\n",
       "      <td>204.089996</td>\n",
       "      <td>205.869995</td>\n",
       "      <td>204.000000</td>\n",
       "      <td>205.210007</td>\n",
       "      <td>205.210007</td>\n",
       "      <td>16947400</td>\n",
       "    </tr>\n",
       "    <tr>\n",
       "      <th>249</th>\n",
       "      <td>2019-07-16</td>\n",
       "      <td>204.589996</td>\n",
       "      <td>206.110001</td>\n",
       "      <td>203.500000</td>\n",
       "      <td>204.500000</td>\n",
       "      <td>204.500000</td>\n",
       "      <td>16866800</td>\n",
       "    </tr>\n",
       "    <tr>\n",
       "      <th>250</th>\n",
       "      <td>2019-07-17</td>\n",
       "      <td>204.050003</td>\n",
       "      <td>205.089996</td>\n",
       "      <td>203.270004</td>\n",
       "      <td>203.350006</td>\n",
       "      <td>203.350006</td>\n",
       "      <td>14088300</td>\n",
       "    </tr>\n",
       "    <tr>\n",
       "      <th>251</th>\n",
       "      <td>2019-07-18</td>\n",
       "      <td>204.000000</td>\n",
       "      <td>205.880005</td>\n",
       "      <td>203.699997</td>\n",
       "      <td>205.660004</td>\n",
       "      <td>205.660004</td>\n",
       "      <td>15724494</td>\n",
       "    </tr>\n",
       "  </tbody>\n",
       "</table>\n",
       "<p>252 rows × 7 columns</p>\n",
       "</div>"
      ]
     },
     "execution_count": 16,
     "metadata": {},
     "output_type": "execute_result"
    }
   ],
   "execution_count": 16
  },
  {
   "metadata": {
    "ExecuteTime": {
     "end_time": "2025-04-08T12:53:25.239661Z",
     "start_time": "2025-04-08T12:53:25.229737Z"
    }
   },
   "cell_type": "code",
   "source": "apple.head(5)",
   "id": "9891eb0bc7bf9176",
   "outputs": [
    {
     "data": {
      "text/plain": [
       "         Date        Open        High         Low       Close   Adj Close  \\\n",
       "0  2018-07-18  191.779999  191.800003  189.929993  190.399994  187.545181   \n",
       "1  2018-07-19  189.690002  192.550003  189.690002  191.880005  189.003006   \n",
       "2  2018-07-20  191.779999  192.429993  190.169998  191.440002  188.569595   \n",
       "3  2018-07-23  190.679993  191.960007  189.559998  191.610001  188.737030   \n",
       "4  2018-07-24  192.449997  193.660004  192.050003  193.000000  190.106216   \n",
       "\n",
       "     Volume  \n",
       "0  16393400  \n",
       "1  20286800  \n",
       "2  20676200  \n",
       "3  15989400  \n",
       "4  18697900  "
      ],
      "text/html": [
       "<div>\n",
       "<style scoped>\n",
       "    .dataframe tbody tr th:only-of-type {\n",
       "        vertical-align: middle;\n",
       "    }\n",
       "\n",
       "    .dataframe tbody tr th {\n",
       "        vertical-align: top;\n",
       "    }\n",
       "\n",
       "    .dataframe thead th {\n",
       "        text-align: right;\n",
       "    }\n",
       "</style>\n",
       "<table border=\"1\" class=\"dataframe\">\n",
       "  <thead>\n",
       "    <tr style=\"text-align: right;\">\n",
       "      <th></th>\n",
       "      <th>Date</th>\n",
       "      <th>Open</th>\n",
       "      <th>High</th>\n",
       "      <th>Low</th>\n",
       "      <th>Close</th>\n",
       "      <th>Adj Close</th>\n",
       "      <th>Volume</th>\n",
       "    </tr>\n",
       "  </thead>\n",
       "  <tbody>\n",
       "    <tr>\n",
       "      <th>0</th>\n",
       "      <td>2018-07-18</td>\n",
       "      <td>191.779999</td>\n",
       "      <td>191.800003</td>\n",
       "      <td>189.929993</td>\n",
       "      <td>190.399994</td>\n",
       "      <td>187.545181</td>\n",
       "      <td>16393400</td>\n",
       "    </tr>\n",
       "    <tr>\n",
       "      <th>1</th>\n",
       "      <td>2018-07-19</td>\n",
       "      <td>189.690002</td>\n",
       "      <td>192.550003</td>\n",
       "      <td>189.690002</td>\n",
       "      <td>191.880005</td>\n",
       "      <td>189.003006</td>\n",
       "      <td>20286800</td>\n",
       "    </tr>\n",
       "    <tr>\n",
       "      <th>2</th>\n",
       "      <td>2018-07-20</td>\n",
       "      <td>191.779999</td>\n",
       "      <td>192.429993</td>\n",
       "      <td>190.169998</td>\n",
       "      <td>191.440002</td>\n",
       "      <td>188.569595</td>\n",
       "      <td>20676200</td>\n",
       "    </tr>\n",
       "    <tr>\n",
       "      <th>3</th>\n",
       "      <td>2018-07-23</td>\n",
       "      <td>190.679993</td>\n",
       "      <td>191.960007</td>\n",
       "      <td>189.559998</td>\n",
       "      <td>191.610001</td>\n",
       "      <td>188.737030</td>\n",
       "      <td>15989400</td>\n",
       "    </tr>\n",
       "    <tr>\n",
       "      <th>4</th>\n",
       "      <td>2018-07-24</td>\n",
       "      <td>192.449997</td>\n",
       "      <td>193.660004</td>\n",
       "      <td>192.050003</td>\n",
       "      <td>193.000000</td>\n",
       "      <td>190.106216</td>\n",
       "      <td>18697900</td>\n",
       "    </tr>\n",
       "  </tbody>\n",
       "</table>\n",
       "</div>"
      ]
     },
     "execution_count": 17,
     "metadata": {},
     "output_type": "execute_result"
    }
   ],
   "execution_count": 17
  },
  {
   "metadata": {
    "ExecuteTime": {
     "end_time": "2025-04-08T12:53:42.932729Z",
     "start_time": "2025-04-08T12:53:42.918602Z"
    }
   },
   "cell_type": "code",
   "source": "apple.tail(5)",
   "id": "95001d26dd18ffa",
   "outputs": [
    {
     "data": {
      "text/plain": [
       "           Date        Open        High         Low       Close   Adj Close  \\\n",
       "247  2019-07-12  202.449997  204.000000  202.199997  203.300003  203.300003   \n",
       "248  2019-07-15  204.089996  205.869995  204.000000  205.210007  205.210007   \n",
       "249  2019-07-16  204.589996  206.110001  203.500000  204.500000  204.500000   \n",
       "250  2019-07-17  204.050003  205.089996  203.270004  203.350006  203.350006   \n",
       "251  2019-07-18  204.000000  205.880005  203.699997  205.660004  205.660004   \n",
       "\n",
       "       Volume  \n",
       "247  17595200  \n",
       "248  16947400  \n",
       "249  16866800  \n",
       "250  14088300  \n",
       "251  15724494  "
      ],
      "text/html": [
       "<div>\n",
       "<style scoped>\n",
       "    .dataframe tbody tr th:only-of-type {\n",
       "        vertical-align: middle;\n",
       "    }\n",
       "\n",
       "    .dataframe tbody tr th {\n",
       "        vertical-align: top;\n",
       "    }\n",
       "\n",
       "    .dataframe thead th {\n",
       "        text-align: right;\n",
       "    }\n",
       "</style>\n",
       "<table border=\"1\" class=\"dataframe\">\n",
       "  <thead>\n",
       "    <tr style=\"text-align: right;\">\n",
       "      <th></th>\n",
       "      <th>Date</th>\n",
       "      <th>Open</th>\n",
       "      <th>High</th>\n",
       "      <th>Low</th>\n",
       "      <th>Close</th>\n",
       "      <th>Adj Close</th>\n",
       "      <th>Volume</th>\n",
       "    </tr>\n",
       "  </thead>\n",
       "  <tbody>\n",
       "    <tr>\n",
       "      <th>247</th>\n",
       "      <td>2019-07-12</td>\n",
       "      <td>202.449997</td>\n",
       "      <td>204.000000</td>\n",
       "      <td>202.199997</td>\n",
       "      <td>203.300003</td>\n",
       "      <td>203.300003</td>\n",
       "      <td>17595200</td>\n",
       "    </tr>\n",
       "    <tr>\n",
       "      <th>248</th>\n",
       "      <td>2019-07-15</td>\n",
       "      <td>204.089996</td>\n",
       "      <td>205.869995</td>\n",
       "      <td>204.000000</td>\n",
       "      <td>205.210007</td>\n",
       "      <td>205.210007</td>\n",
       "      <td>16947400</td>\n",
       "    </tr>\n",
       "    <tr>\n",
       "      <th>249</th>\n",
       "      <td>2019-07-16</td>\n",
       "      <td>204.589996</td>\n",
       "      <td>206.110001</td>\n",
       "      <td>203.500000</td>\n",
       "      <td>204.500000</td>\n",
       "      <td>204.500000</td>\n",
       "      <td>16866800</td>\n",
       "    </tr>\n",
       "    <tr>\n",
       "      <th>250</th>\n",
       "      <td>2019-07-17</td>\n",
       "      <td>204.050003</td>\n",
       "      <td>205.089996</td>\n",
       "      <td>203.270004</td>\n",
       "      <td>203.350006</td>\n",
       "      <td>203.350006</td>\n",
       "      <td>14088300</td>\n",
       "    </tr>\n",
       "    <tr>\n",
       "      <th>251</th>\n",
       "      <td>2019-07-18</td>\n",
       "      <td>204.000000</td>\n",
       "      <td>205.880005</td>\n",
       "      <td>203.699997</td>\n",
       "      <td>205.660004</td>\n",
       "      <td>205.660004</td>\n",
       "      <td>15724494</td>\n",
       "    </tr>\n",
       "  </tbody>\n",
       "</table>\n",
       "</div>"
      ]
     },
     "execution_count": 18,
     "metadata": {},
     "output_type": "execute_result"
    }
   ],
   "execution_count": 18
  },
  {
   "metadata": {
    "ExecuteTime": {
     "end_time": "2025-04-08T12:54:15.913905Z",
     "start_time": "2025-04-08T12:54:15.907161Z"
    }
   },
   "cell_type": "code",
   "source": "apple.tail(7)[\"Adj Close\"].mean()",
   "id": "a166530cdd7a5b11",
   "outputs": [
    {
     "data": {
      "text/plain": [
       "<bound method Series.mean of 245    203.229996\n",
       "246    201.750000\n",
       "247    203.300003\n",
       "248    205.210007\n",
       "249    204.500000\n",
       "250    203.350006\n",
       "251    205.660004\n",
       "Name: Adj Close, dtype: float64>"
      ]
     },
     "execution_count": 19,
     "metadata": {},
     "output_type": "execute_result"
    }
   ],
   "execution_count": 19
  },
  {
   "metadata": {
    "ExecuteTime": {
     "end_time": "2025-04-08T12:54:29.838528Z",
     "start_time": "2025-04-08T12:54:29.828078Z"
    }
   },
   "cell_type": "code",
   "source": "apple.tail(7)[[\"Adj Close\"]].mean()",
   "id": "1ceefdab176e8479",
   "outputs": [
    {
     "data": {
      "text/plain": [
       "Adj Close    203.857145\n",
       "dtype: float64"
      ]
     },
     "execution_count": 20,
     "metadata": {},
     "output_type": "execute_result"
    }
   ],
   "execution_count": 20
  },
  {
   "metadata": {
    "ExecuteTime": {
     "end_time": "2025-04-08T12:54:47.580985Z",
     "start_time": "2025-04-08T12:54:47.561123Z"
    }
   },
   "cell_type": "code",
   "source": "apple.describe()",
   "id": "56a75d4cf6252873",
   "outputs": [
    {
     "data": {
      "text/plain": [
       "             Open        High         Low       Close   Adj Close  \\\n",
       "count  252.000000  252.000000  252.000000  252.000000  252.000000   \n",
       "mean   192.479325  194.480715  190.559603  192.580437  191.239701   \n",
       "std     21.630732   21.758249   21.569369   21.644905   21.217154   \n",
       "min    143.979996  145.720001  142.000000  142.190002  141.039642   \n",
       "25%    174.872501  175.967499  173.747501  174.832496  174.111996   \n",
       "50%    194.279999  196.165001  192.599998  194.180000  193.582848   \n",
       "75%    209.312500  210.074997  206.832497  208.872498  206.713852   \n",
       "max    230.779999  233.470001  229.779999  232.070007  229.392090   \n",
       "\n",
       "             Volume  \n",
       "count  2.520000e+02  \n",
       "mean   3.250815e+07  \n",
       "std    1.387518e+07  \n",
       "min    1.136200e+07  \n",
       "25%    2.308030e+07  \n",
       "50%    2.942395e+07  \n",
       "75%    3.876472e+07  \n",
       "max    9.624670e+07  "
      ],
      "text/html": [
       "<div>\n",
       "<style scoped>\n",
       "    .dataframe tbody tr th:only-of-type {\n",
       "        vertical-align: middle;\n",
       "    }\n",
       "\n",
       "    .dataframe tbody tr th {\n",
       "        vertical-align: top;\n",
       "    }\n",
       "\n",
       "    .dataframe thead th {\n",
       "        text-align: right;\n",
       "    }\n",
       "</style>\n",
       "<table border=\"1\" class=\"dataframe\">\n",
       "  <thead>\n",
       "    <tr style=\"text-align: right;\">\n",
       "      <th></th>\n",
       "      <th>Open</th>\n",
       "      <th>High</th>\n",
       "      <th>Low</th>\n",
       "      <th>Close</th>\n",
       "      <th>Adj Close</th>\n",
       "      <th>Volume</th>\n",
       "    </tr>\n",
       "  </thead>\n",
       "  <tbody>\n",
       "    <tr>\n",
       "      <th>count</th>\n",
       "      <td>252.000000</td>\n",
       "      <td>252.000000</td>\n",
       "      <td>252.000000</td>\n",
       "      <td>252.000000</td>\n",
       "      <td>252.000000</td>\n",
       "      <td>2.520000e+02</td>\n",
       "    </tr>\n",
       "    <tr>\n",
       "      <th>mean</th>\n",
       "      <td>192.479325</td>\n",
       "      <td>194.480715</td>\n",
       "      <td>190.559603</td>\n",
       "      <td>192.580437</td>\n",
       "      <td>191.239701</td>\n",
       "      <td>3.250815e+07</td>\n",
       "    </tr>\n",
       "    <tr>\n",
       "      <th>std</th>\n",
       "      <td>21.630732</td>\n",
       "      <td>21.758249</td>\n",
       "      <td>21.569369</td>\n",
       "      <td>21.644905</td>\n",
       "      <td>21.217154</td>\n",
       "      <td>1.387518e+07</td>\n",
       "    </tr>\n",
       "    <tr>\n",
       "      <th>min</th>\n",
       "      <td>143.979996</td>\n",
       "      <td>145.720001</td>\n",
       "      <td>142.000000</td>\n",
       "      <td>142.190002</td>\n",
       "      <td>141.039642</td>\n",
       "      <td>1.136200e+07</td>\n",
       "    </tr>\n",
       "    <tr>\n",
       "      <th>25%</th>\n",
       "      <td>174.872501</td>\n",
       "      <td>175.967499</td>\n",
       "      <td>173.747501</td>\n",
       "      <td>174.832496</td>\n",
       "      <td>174.111996</td>\n",
       "      <td>2.308030e+07</td>\n",
       "    </tr>\n",
       "    <tr>\n",
       "      <th>50%</th>\n",
       "      <td>194.279999</td>\n",
       "      <td>196.165001</td>\n",
       "      <td>192.599998</td>\n",
       "      <td>194.180000</td>\n",
       "      <td>193.582848</td>\n",
       "      <td>2.942395e+07</td>\n",
       "    </tr>\n",
       "    <tr>\n",
       "      <th>75%</th>\n",
       "      <td>209.312500</td>\n",
       "      <td>210.074997</td>\n",
       "      <td>206.832497</td>\n",
       "      <td>208.872498</td>\n",
       "      <td>206.713852</td>\n",
       "      <td>3.876472e+07</td>\n",
       "    </tr>\n",
       "    <tr>\n",
       "      <th>max</th>\n",
       "      <td>230.779999</td>\n",
       "      <td>233.470001</td>\n",
       "      <td>229.779999</td>\n",
       "      <td>232.070007</td>\n",
       "      <td>229.392090</td>\n",
       "      <td>9.624670e+07</td>\n",
       "    </tr>\n",
       "  </tbody>\n",
       "</table>\n",
       "</div>"
      ]
     },
     "execution_count": 21,
     "metadata": {},
     "output_type": "execute_result"
    }
   ],
   "execution_count": 21
  },
  {
   "metadata": {},
   "cell_type": "code",
   "outputs": [],
   "execution_count": null,
   "source": "",
   "id": "5b5dab1932f8cbb4"
  }
 ],
 "metadata": {
  "kernelspec": {
   "display_name": "Python 3",
   "language": "python",
   "name": "python3"
  },
  "language_info": {
   "codemirror_mode": {
    "name": "ipython",
    "version": 2
   },
   "file_extension": ".py",
   "mimetype": "text/x-python",
   "name": "python",
   "nbconvert_exporter": "python",
   "pygments_lexer": "ipython2",
   "version": "2.7.6"
  }
 },
 "nbformat": 4,
 "nbformat_minor": 5
}
